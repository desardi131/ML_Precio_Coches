{
 "cells": [
  {
   "cell_type": "code",
   "execution_count": 1,
   "metadata": {},
   "outputs": [],
   "source": [
    "# importamos las librerias comunes\n",
    "import pandas as pd\n",
    "import numpy as np\n",
    "\n",
    "# importamos las librerias de visualizacion que usaremos mas adelante \n",
    "import matplotlib.pyplot as plt\n",
    "import seaborn as sns"
   ]
  },
  {
   "cell_type": "code",
   "execution_count": 133,
   "metadata": {},
   "outputs": [],
   "source": [
    "# leemos el dataset, lo asignamos a la variable df \n",
    "df = pd.read_csv('C:/Users/desardi131/Desktop/desardi131/The_Bridge_Data_Science/Python/Proyectos/ML/ML_Precio_Coches/src/dataset/coches_fil.csv', encoding='latin-1')\n"
   ]
  },
  {
   "cell_type": "code",
   "execution_count": 134,
   "metadata": {},
   "outputs": [],
   "source": [
    "# miramos que columnas tiene el dataset\n",
    "\n",
    "df.columns\n",
    "\n",
    "# vamos a retirar las columnas innecesarias para el calculo del precio como son 'id', 'url', 'image_url', 'VIN','descrition', 'size', 'lat' y 'long'\n",
    "\n",
    "df = df.drop(['id', 'url', 'image_url', 'VIN', 'lat', 'long', 'description', 'size'],axis=1)\n"
   ]
  },
  {
   "cell_type": "code",
   "execution_count": 135,
   "metadata": {},
   "outputs": [
    {
     "data": {
      "text/plain": [
       "array(['6 cylinders', '5 cylinders', '4 cylinders', '3 cylinders'],\n",
       "      dtype=object)"
      ]
     },
     "execution_count": 135,
     "metadata": {},
     "output_type": "execute_result"
    }
   ],
   "source": [
    "# Lo primero que haremos será eliminar las filas que tengan 'other'\n",
    "\n",
    "df = df[df['cylinders'].str[-9:]=='cylinders' ]\n",
    "\n",
    "\n",
    "\n",
    " \n",
    "\n",
    "\n",
    "\n",
    "df.cylinders.unique()"
   ]
  },
  {
   "cell_type": "code",
   "execution_count": null,
   "metadata": {},
   "outputs": [],
   "source": []
  },
  {
   "cell_type": "code",
   "execution_count": null,
   "metadata": {},
   "outputs": [],
   "source": []
  },
  {
   "cell_type": "code",
   "execution_count": 32,
   "metadata": {},
   "outputs": [
    {
     "name": "stdout",
     "output_type": "stream",
     "text": [
      "Porcentaje de valores nulos: 10.28 %\n"
     ]
    }
   ],
   "source": [
    "# Miramos la informaciion del dataset\n",
    "\n",
    "df.info()\n",
    "\n",
    "# Vemos que 'drive' y 'paint_color' tienen una gran cantidad de valores nulos, asi que vamos a comprobar el ratio para decidir que hacer\n",
    "\n",
    "ratio = (len(df.drive[df['drive'].isnull()== True])/len(df.drive))*100\n",
    "print('Porcentaje de valores nulos:', round(ratio,2),'%')\n",
    "\n",
    "# Al ser un porcentaje alrededor del 10% convertiremos los valores nulos "
   ]
  }
 ],
 "metadata": {
  "kernelspec": {
   "display_name": "Python 3.7.4 64-bit",
   "language": "python",
   "name": "python3"
  },
  "language_info": {
   "codemirror_mode": {
    "name": "ipython",
    "version": 3
   },
   "file_extension": ".py",
   "mimetype": "text/x-python",
   "name": "python",
   "nbconvert_exporter": "python",
   "pygments_lexer": "ipython3",
   "version": "3.7.4"
  },
  "orig_nbformat": 4,
  "vscode": {
   "interpreter": {
    "hash": "ddd14c5522b8c89e74d6fdb2089acb05daac4aee5b6b35e5bfccff2f461e99a6"
   }
  }
 },
 "nbformat": 4,
 "nbformat_minor": 2
}
