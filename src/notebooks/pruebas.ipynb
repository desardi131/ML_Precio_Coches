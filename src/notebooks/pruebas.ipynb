{
 "cells": [
  {
   "cell_type": "code",
   "execution_count": 32,
   "metadata": {},
   "outputs": [],
   "source": [
    "# importamos las librerias comunes\n",
    "import pandas as pd\n",
    "import numpy as np\n",
    "\n",
    "# importamos las librerias de visualizacion que usaremos mas adelante \n",
    "import matplotlib.pyplot as plt\n",
    "import seaborn as sns\n",
    "\n",
    "# importamos las librerias que necesitaremos para preprocesado de nuestro modelo \n",
    "\n",
    "from sklearn.preprocessing import OrdinalEncoder,StandardScaler, PolynomialFeatures\n",
    "from sklearn.model_selection import train_test_split\n",
    "from sklearn.impute import SimpleImputer\n",
    "\n",
    "\n",
    "# importamos las librerias para los diferentes modelos\n",
    "\n",
    "from sklearn.linear_model import LinearRegression, Ridge, Lasso, ElasticNet\n",
    "from sklearn.ensemble import RandomForestRegressor, AdaBoostRegressor, GradientBoostingRegressor\n",
    "from sklearn.pipeline import Pipeline\n",
    "from sklearn.tree import DecisionTreeRegressor\n",
    "from sklearn.svm import SVR \n",
    "from sklearn.model_selection import cross_val_score, GridSearchCV\n",
    "from sklearn.metrics import mean_absolute_error, mean_squared_error, r2_score\n",
    "import xgboost"
   ]
  },
  {
   "cell_type": "code",
   "execution_count": 33,
   "metadata": {},
   "outputs": [],
   "source": [
    "# leemos el dataset, lo asignamos a la variable df \n",
    "df = pd.read_csv('C:/Users/desardi131/Desktop/desardi131/The_Bridge_Data_Science/Python/Proyectos/ML/ML_Precio_Coches/src/dataset/coches_fil.csv', encoding='latin-1')\n"
   ]
  },
  {
   "cell_type": "code",
   "execution_count": 34,
   "metadata": {},
   "outputs": [],
   "source": [
    "# miramos que columnas tiene el dataset\n",
    "\n",
    "df.columns\n",
    "\n",
    "# vamos a retirar las columnas innecesarias para el calculo del precio como son 'id', 'url', 'image_url', 'VIN','descrition', 'size', 'lat' y 'long'\n",
    "# tambien retiramos las columna region ya que nos da la misma informacion que state pero teniendo muchas mas categorias unicas \n",
    "\n",
    "df = df.drop(['id', 'url', 'image_url', 'VIN', 'lat', 'long', 'description', 'size', 'region'],axis=1)\n"
   ]
  },
  {
   "cell_type": "code",
   "execution_count": 35,
   "metadata": {},
   "outputs": [
    {
     "data": {
      "text/plain": [
       "price             int64\n",
       "year              int64\n",
       "manufacturer     object\n",
       "model            object\n",
       "condition        object\n",
       "cylinders        object\n",
       "fuel             object\n",
       "odometer        float64\n",
       "title_status     object\n",
       "transmission     object\n",
       "drive            object\n",
       "type             object\n",
       "paint_color      object\n",
       "state            object\n",
       "reliability     float64\n",
       "dtype: object"
      ]
     },
     "execution_count": 35,
     "metadata": {},
     "output_type": "execute_result"
    }
   ],
   "source": [
    "df.dtypes"
   ]
  },
  {
   "cell_type": "code",
   "execution_count": 36,
   "metadata": {},
   "outputs": [
    {
     "name": "stdout",
     "output_type": "stream",
     "text": [
      "Porcentaje de valores nulos: 10.28 %\n"
     ]
    }
   ],
   "source": [
    "# Miramos la informaciion del dataset\n",
    "\n",
    "#df.info()\n",
    "\n",
    "# Vemos que 'drive' y 'paint_color' tienen una gran cantidad de valores nulos, asi que vamos a comprobar el ratio para decidir que hacer\n",
    "\n",
    "ratio = (len(df.drive[df['drive'].isnull()== True])/len(df.drive))*100\n",
    "print('Porcentaje de valores nulos:', round(ratio,2),'%')\n",
    "\n",
    "'''\n",
    "Al ser un porcentaje alrededor del 10% convertiremos los valores nulos,\n",
    "como se trata de atributos categóricos sustituiremos los valores nulos por la moda\n",
    "\n",
    "'''\n",
    "# sustituyendo los valores en columna 'drive'\n",
    "mode = df.loc[:,'drive'].mode()\n",
    "\n",
    "df['drive'].fillna(mode[0],inplace=True)\n",
    "\n",
    "# sustituyendo los valores en columna 'paint_color'\n",
    "mode2 = df.loc[:,'paint_color'].mode()\n",
    "\n",
    "df['paint_color'].fillna(mode2[0],inplace=True)\n",
    "\n",
    "\n",
    "\n",
    "\n"
   ]
  },
  {
   "cell_type": "code",
   "execution_count": 37,
   "metadata": {},
   "outputs": [
    {
     "name": "stdout",
     "output_type": "stream",
     "text": [
      "<class 'pandas.core.frame.DataFrame'>\n",
      "Int64Index: 12188 entries, 0 to 15426\n",
      "Data columns (total 15 columns):\n",
      " #   Column        Non-Null Count  Dtype  \n",
      "---  ------        --------------  -----  \n",
      " 0   price         12188 non-null  int64  \n",
      " 1   year          12188 non-null  int64  \n",
      " 2   manufacturer  12188 non-null  object \n",
      " 3   model         12188 non-null  object \n",
      " 4   condition     12188 non-null  object \n",
      " 5   cylinders     12188 non-null  object \n",
      " 6   fuel          12188 non-null  object \n",
      " 7   odometer      12188 non-null  float64\n",
      " 8   title_status  12188 non-null  object \n",
      " 9   transmission  12188 non-null  object \n",
      " 10  drive         12188 non-null  object \n",
      " 11  type          12188 non-null  object \n",
      " 12  paint_color   12188 non-null  object \n",
      " 13  state         12188 non-null  object \n",
      " 14  reliability   12188 non-null  float64\n",
      "dtypes: float64(2), int64(2), object(11)\n",
      "memory usage: 1.7+ MB\n"
     ]
    }
   ],
   "source": [
    "# revisamos los valores nulos que nos quedan, comprobamos si existen dubplicados y eliminamos\n",
    "# los valores nulos restantes ya que no tendria sentido sustuir por la moda en la columna de modelos y tenemos\n",
    "#  suficientes datos aun eliminando los nulos restantes\n",
    "df.drop_duplicates(inplace=True)\n",
    "\n",
    "df = df[~df['model'].isnull()==True]\n",
    "df= df[~df['transmission'].isnull()==True]\n",
    "\n",
    "# retiramos los vehiculos mal clasificados de numero de cilindros para retirar outliers\n",
    "df.loc[:,'cylinders'].drop([1479,6716,9603], axis=0,inplace=True)\n",
    "\n",
    "df.info()"
   ]
  },
  {
   "cell_type": "code",
   "execution_count": 38,
   "metadata": {},
   "outputs": [],
   "source": [
    "df.reset_index(inplace=True,drop=True)"
   ]
  },
  {
   "cell_type": "code",
   "execution_count": 39,
   "metadata": {},
   "outputs": [],
   "source": [
    "'''\n",
    "Ahora tenemos 2 columnas float, 2 columnas de tipo integer64 \n",
    "y 12 de tipo object, estas ultimas son categoricas y necesitamos \n",
    "sustitur sus valores por numeros para poder trabajar con los modelos.\n",
    "\n",
    "voy a usar ordinalencoder en lugar de labelencoder para poder realizarlo a \n",
    "todas las columnas a la vez y asi reducir el numero de pasos.\n",
    "'''\n",
    "# antes vamos a dividir el rango de kilometraje de la columna 'odometer' en 10 quantiles \n",
    "labels = [0,1,2,3,4,5,6,7,8,9]\n",
    "df['odometer_lab'] = pd.qcut(x=df.loc[:,'odometer'],q=len(labels),labels=labels)\n",
    "\n",
    "df['odometer_lab'] = df['odometer_lab'].astype(float)\n",
    "\n",
    "\n"
   ]
  },
  {
   "cell_type": "code",
   "execution_count": 40,
   "metadata": {},
   "outputs": [
    {
     "name": "stdout",
     "output_type": "stream",
     "text": [
      "(9141, 15)\n",
      "(3047, 15)\n",
      "(9141,)\n",
      "(3047,)\n"
     ]
    }
   ],
   "source": [
    "# asignamos X e y como las features y target respectivamente\n",
    "X = df.drop('price', axis=1)\n",
    "y = df['price']\n",
    "\n",
    "# dividimos nuestros datos en train y test para comenzar a trabajar con ellos \n",
    "\n",
    "X_train_df, X_test, y_train, y_test = train_test_split(X, y, test_size=0.25, random_state=42)\n",
    "\n",
    "print(X_train_df.shape)\n",
    "print(X_test.shape)\n",
    "print(y_train.shape)\n",
    "print(y_test.shape)"
   ]
  },
  {
   "cell_type": "code",
   "execution_count": 41,
   "metadata": {},
   "outputs": [
    {
     "data": {
      "text/plain": [
       "year              11\n",
       "manufacturer      16\n",
       "model            320\n",
       "condition          3\n",
       "cylinders          5\n",
       "fuel               5\n",
       "odometer        5370\n",
       "title_status       6\n",
       "transmission       3\n",
       "drive              3\n",
       "type               8\n",
       "paint_color       12\n",
       "state             51\n",
       "reliability        8\n",
       "odometer_lab      10\n",
       "dtype: int64"
      ]
     },
     "execution_count": 41,
     "metadata": {},
     "output_type": "execute_result"
    }
   ],
   "source": [
    "# conversion de datos apoyandonos en el principio de pareto \n",
    "prueba= (X_train_df['model'].value_counts(normalize=True)*100)\n",
    "prueba_df = pd.DataFrame(prueba)\n",
    "\n",
    "# 1587 valores unicos, el 20% es 318, corrigiendo a 323 obtenemos el 80% de las apariciones de los modelos\n",
    "# el resto de modelos los cambiamos a other y hemos reducido las categorias de 1587 a 324 en la columna modelos \n",
    "prueba_df.reset_index(inplace=True)\n",
    "\n",
    "# una lista de los modelos que no van a ser modificados, siendo el 20% de valores unicos aunque utilizando 5 valores mas para poder alcanzar el 80% de los datos\n",
    "lista_modelos =  prueba_df.loc[:((X_train_df.model.nunique())+5)*0.2,'index'].to_list()\n",
    "\n",
    "# metemos en un diccionario los modelos que vamos a llamar 'other'\n",
    "dic = {}\n",
    "for num, i in enumerate(X_train_df.model):\n",
    "    if i not in lista_modelos:\n",
    "       dic[num]=i\n",
    "\n",
    "# cambiamos los valores \n",
    "X_train_df['model'] = X_train_df['model'].replace(list(dic.values()),'other')\n",
    "\n",
    "# comprobamos los valores de la columna model y vemos que hemos pasado de 1612 valores unicos a 325\n",
    "X_train_df.nunique()"
   ]
  },
  {
   "cell_type": "code",
   "execution_count": 42,
   "metadata": {},
   "outputs": [
    {
     "name": "stdout",
     "output_type": "stream",
     "text": [
      "Valores unicos para  \"modelo\": 128\n"
     ]
    }
   ],
   "source": [
    "# convertimos en lista el array de modelos unicos \n",
    "list_unicos = list(X_train_df['model'].unique())\n",
    "\n",
    "# cada elemento dentro de la lista lo convertimos en una nueva lista para poder dividrlos en strings \n",
    "list_list = []\n",
    "for i in range((len(list_unicos)+1)):\n",
    "    list_list.append([])\n",
    "\n",
    "for n,i in enumerate(list_list):\n",
    "    \n",
    "    i.append(list_unicos[n-1])\n",
    "\n",
    "# dividimos cada elemento en estrings usando el espacio como separador \n",
    "list_nu = []\n",
    "for n in list_list:\n",
    "\n",
    "    list_nu.append(n[0].split(' '))\n",
    "        \n",
    "# nos quedamos con los primeros elementos de cada sublista ya que indica el modelo generico y asi podemos reducir el numero de valores unicos \n",
    "ult_list = []\n",
    "for n in list_nu:\n",
    "    if len(n)>1:\n",
    "\n",
    "        if 'benz' in n:\n",
    "            ult_list.append(n)\n",
    "\n",
    "        elif n[0]=='3' or n[0] == '5' or n[0] == '6':\n",
    "            ult_list.append(n[:2])\n",
    "            \n",
    "        else:\n",
    "            ult_list.append([n[0]])\n",
    "    else:\n",
    "        ult_list.append(n)\n",
    "\n",
    "# las sublistas que hemos dejado con mas de un elemento volvemos a unir sus strings ya que la informacion no estaba solo en el primer elemento de la sublista\n",
    "ult_list2 = []\n",
    "for n in ult_list:\n",
    "    if len(n)>1:\n",
    "        ult_list2.append([' '.join(n)])\n",
    "    else:\n",
    "        ult_list2.append(n)\n",
    "\n",
    "# retiramos las sublistas y nos quedamos solo con una lista que contiene todos los elementos  \n",
    "flat_list = [item for sublist in ult_list2 for item in sublist]\n",
    "\n",
    "# ahora eleminamos los duplicados y comprobamos que nos hemos quedado con 132 elementos unicos de 325 originales\n",
    "flat_list = list(dict.fromkeys(flat_list))\n",
    "print('Valores unicos para  \"modelo\":',len(flat_list))\n",
    "\n",
    "# a continuacion vamos a sustituir en X_train_df los antiguos valores por los nuevos ya filtrados\n",
    "\n"
   ]
  },
  {
   "cell_type": "code",
   "execution_count": 43,
   "metadata": {},
   "outputs": [],
   "source": [
    "# unificamos las distintas versiones de un modelo en un solo modelo, quedandonos asi con 110 valores unicos \n",
    "for i,n in enumerate(flat_list):\n",
    "\n",
    "    # corregir el bucle cuando tenga tiempo \n",
    "    if flat_list[i] == '3' or flat_list[i] == '5' or flat_list[i] == '6' or flat_list[i] == '7' or flat_list[i] == 'es' or flat_list[i] == 'is' or flat_list[i] == '2':\n",
    "        continue\n",
    "    \n",
    "    elif flat_list[i] == '128i':\n",
    "        X_train_df['model'] = X_train_df.model.replace(X_train_df.model[X_train_df.model.str.contains(flat_list[i])].unique(),'1 series')\n",
    "\n",
    "    elif flat_list[i] == '320i' or flat_list[i] == '335i'   or flat_list[i] == '328xi'    or flat_list[i] == '335xi' or flat_list[i] == '328i':\n",
    "        X_train_df['model'] = X_train_df.model.replace(X_train_df.model[X_train_df.model.str.contains(flat_list[i])].unique(),'3 series')\n",
    "\n",
    "    elif flat_list[i] == '528i' or flat_list[i] == '535i'or flat_list[i] == '535xi' or flat_list[i] == '528xi':\n",
    "        X_train_df['model'] = X_train_df.model.replace(X_train_df.model[X_train_df.model.str.contains(flat_list[i])].unique(),'5 series')\n",
    "\n",
    "    else:\n",
    "        X_train_df['model'] = X_train_df.model.replace(X_train_df.model[X_train_df.model.str.contains(flat_list[i])].unique(),flat_list[i])\n",
    "\n"
   ]
  },
  {
   "cell_type": "code",
   "execution_count": 44,
   "metadata": {},
   "outputs": [],
   "source": [
    "# vamos a retirar la columna 'odometer' ya que son valores continuos y sus valores ya los hemos agrupado en la columna 'odometer_lab'\n",
    "X_train_df.drop('odometer',axis=1, inplace=True)"
   ]
  },
  {
   "cell_type": "code",
   "execution_count": 45,
   "metadata": {},
   "outputs": [
    {
     "data": {
      "text/plain": [
       "Index(['year', 'manufacturer', 'model', 'condition', 'cylinders', 'fuel',\n",
       "       'title_status', 'transmission', 'drive', 'type', 'paint_color', 'state',\n",
       "       'reliability', 'odometer_lab'],\n",
       "      dtype='object')"
      ]
     },
     "execution_count": 45,
     "metadata": {},
     "output_type": "execute_result"
    }
   ],
   "source": [
    "X_train_df.columns"
   ]
  },
  {
   "cell_type": "code",
   "execution_count": 46,
   "metadata": {},
   "outputs": [
    {
     "name": "stderr",
     "output_type": "stream",
     "text": [
      "c:\\Users\\desardi131\\AppData\\Local\\Programs\\Python\\Python37\\lib\\site-packages\\sklearn\\utils\\deprecation.py:87: FutureWarning: Function get_feature_names is deprecated; get_feature_names is deprecated in 1.0 and will be removed in 1.2. Please use get_feature_names_out instead.\n",
      "  warnings.warn(msg, category=FutureWarning)\n"
     ]
    }
   ],
   "source": [
    "from sklearn.preprocessing import OneHotEncoder\n",
    "from sklearn.compose import make_column_transformer\n",
    "# a continuacion realizamos un onehot encoder para las coloumnas \n",
    "df_oh_train = pd.concat([X_train_df, y_train], axis= 1)\n",
    "\n",
    "# vamos a transformar las columnas pero vamos a meter el dataframe X,y train.\n",
    "transformer = make_column_transformer((OneHotEncoder(handle_unknown='ignore'), ['manufacturer' , 'model', 'condition',\n",
    "       'cylinders','fuel' ,'title_status','transmission','drive','type','paint_color', 'state']),remainder='passthrough')\n",
    "\n",
    "transformer.fit(df_oh_train)\n",
    "\n",
    "transformed = transformer.transform(df_oh_train).toarray()\n",
    "\n",
    "transformed_train_df = pd.DataFrame(transformed, columns=transformer.get_feature_names_out())\n",
    "\n"
   ]
  },
  {
   "cell_type": "code",
   "execution_count": 47,
   "metadata": {},
   "outputs": [
    {
     "data": {
      "text/plain": [
       "year             11\n",
       "manufacturer     16\n",
       "model           105\n",
       "condition         3\n",
       "cylinders         5\n",
       "fuel              5\n",
       "title_status      6\n",
       "transmission      3\n",
       "drive             3\n",
       "type              8\n",
       "paint_color      12\n",
       "state            51\n",
       "reliability       8\n",
       "odometer_lab     10\n",
       "dtype: int64"
      ]
     },
     "execution_count": 47,
     "metadata": {},
     "output_type": "execute_result"
    }
   ],
   "source": [
    "# transformacion X_test \n",
    "\n",
    "# vamos a utilizar la lista de modelos que obtuvimos en train para aplicarla a test\n",
    "# esta lista contiene todos los modelos que mas aparecen y el resto lo marca como 'other'\n",
    "\n",
    "lista_modelos \n",
    "\n",
    "# metemos en un diccionario los modelos que vamos a llamar 'other' esta vez test\n",
    "dic = {}\n",
    "for num, i in enumerate(X_test.model):\n",
    "    if i not in lista_modelos:\n",
    "       dic[num]=i\n",
    "\n",
    "# cambiamos los valores en test\n",
    "X_test['model'] = X_test['model'].replace(list(dic.values()),'other')\n",
    "\n",
    "# el resultado nos da 105 modelos distintos \n",
    "X_train_df.nunique()"
   ]
  },
  {
   "cell_type": "code",
   "execution_count": 48,
   "metadata": {},
   "outputs": [],
   "source": [
    "# no necesitamos repetir el proceso de quedarnos con modelos unicos ya que tenemos la lista de train \n",
    "# ahora esa lista la aplicamos en X_test y tendremos los valores unificados \n",
    "# unificamos las distintas versiones de un modelo en un solo modelo, quedandonos asi con 110 valores unicos \n",
    "for i,n in enumerate(flat_list):\n",
    "\n",
    "    # corregir el bucle cuando tenga tiempo \n",
    "    if flat_list[i] == '3' or flat_list[i] == '5' or flat_list[i] == '6' or flat_list[i] == '7' or flat_list[i] == 'es' or flat_list[i] == 'is' or flat_list[i] == '2':\n",
    "        continue\n",
    "    \n",
    "    elif flat_list[i] == '128i':\n",
    "        X_test['model'] = X_test.model.replace(X_test.model[X_test.model.str.contains(flat_list[i])].unique(),'1 series')\n",
    "\n",
    "    elif flat_list[i] == '320i' or flat_list[i] == '335i'   or flat_list[i] == '328xi'    or flat_list[i] == '335xi' or flat_list[i] == '328i':\n",
    "        X_test['model'] = X_test.model.replace(X_test.model[X_test.model.str.contains(flat_list[i])].unique(),'3 series')\n",
    "\n",
    "    elif flat_list[i] == '528i' or flat_list[i] == '535i'or flat_list[i] == '535xi' or flat_list[i] == '528xi':\n",
    "        X_test['model'] = X_test.model.replace(X_test.model[X_test.model.str.contains(flat_list[i])].unique(),'5 series')\n",
    "\n",
    "    else:\n",
    "        X_test['model'] = X_test.model.replace(X_test.model[X_test.model.str.contains(flat_list[i])].unique(),flat_list[i])\n"
   ]
  },
  {
   "cell_type": "code",
   "execution_count": 49,
   "metadata": {},
   "outputs": [
    {
     "name": "stderr",
     "output_type": "stream",
     "text": [
      "c:\\Users\\desardi131\\AppData\\Local\\Programs\\Python\\Python37\\lib\\site-packages\\sklearn\\utils\\deprecation.py:87: FutureWarning: Function get_feature_names is deprecated; get_feature_names is deprecated in 1.0 and will be removed in 1.2. Please use get_feature_names_out instead.\n",
      "  warnings.warn(msg, category=FutureWarning)\n"
     ]
    },
    {
     "data": {
      "text/html": [
       "<div>\n",
       "<style scoped>\n",
       "    .dataframe tbody tr th:only-of-type {\n",
       "        vertical-align: middle;\n",
       "    }\n",
       "\n",
       "    .dataframe tbody tr th {\n",
       "        vertical-align: top;\n",
       "    }\n",
       "\n",
       "    .dataframe thead th {\n",
       "        text-align: right;\n",
       "    }\n",
       "</style>\n",
       "<table border=\"1\" class=\"dataframe\">\n",
       "  <thead>\n",
       "    <tr style=\"text-align: right;\">\n",
       "      <th></th>\n",
       "      <th>onehotencoder__x0_audi</th>\n",
       "      <th>onehotencoder__x0_bmw</th>\n",
       "      <th>onehotencoder__x0_ford</th>\n",
       "      <th>onehotencoder__x0_honda</th>\n",
       "      <th>onehotencoder__x0_hyundai</th>\n",
       "      <th>onehotencoder__x0_kia</th>\n",
       "      <th>onehotencoder__x0_lexus</th>\n",
       "      <th>onehotencoder__x0_mazda</th>\n",
       "      <th>onehotencoder__x0_mercedes-benz</th>\n",
       "      <th>onehotencoder__x0_mini</th>\n",
       "      <th>...</th>\n",
       "      <th>onehotencoder__x10_va</th>\n",
       "      <th>onehotencoder__x10_vt</th>\n",
       "      <th>onehotencoder__x10_wa</th>\n",
       "      <th>onehotencoder__x10_wi</th>\n",
       "      <th>onehotencoder__x10_wv</th>\n",
       "      <th>onehotencoder__x10_wy</th>\n",
       "      <th>year</th>\n",
       "      <th>reliability</th>\n",
       "      <th>odometer_lab</th>\n",
       "      <th>price</th>\n",
       "    </tr>\n",
       "  </thead>\n",
       "  <tbody>\n",
       "    <tr>\n",
       "      <th>0</th>\n",
       "      <td>0.0</td>\n",
       "      <td>0.0</td>\n",
       "      <td>1.0</td>\n",
       "      <td>0.0</td>\n",
       "      <td>0.0</td>\n",
       "      <td>0.0</td>\n",
       "      <td>0.0</td>\n",
       "      <td>0.0</td>\n",
       "      <td>0.0</td>\n",
       "      <td>0.0</td>\n",
       "      <td>...</td>\n",
       "      <td>0.0</td>\n",
       "      <td>0.0</td>\n",
       "      <td>0.0</td>\n",
       "      <td>0.0</td>\n",
       "      <td>0.0</td>\n",
       "      <td>0.0</td>\n",
       "      <td>2017.0</td>\n",
       "      <td>80.0</td>\n",
       "      <td>0.0</td>\n",
       "      <td>11395.0</td>\n",
       "    </tr>\n",
       "    <tr>\n",
       "      <th>1</th>\n",
       "      <td>0.0</td>\n",
       "      <td>0.0</td>\n",
       "      <td>1.0</td>\n",
       "      <td>0.0</td>\n",
       "      <td>0.0</td>\n",
       "      <td>0.0</td>\n",
       "      <td>0.0</td>\n",
       "      <td>0.0</td>\n",
       "      <td>0.0</td>\n",
       "      <td>0.0</td>\n",
       "      <td>...</td>\n",
       "      <td>0.0</td>\n",
       "      <td>0.0</td>\n",
       "      <td>0.0</td>\n",
       "      <td>0.0</td>\n",
       "      <td>0.0</td>\n",
       "      <td>0.0</td>\n",
       "      <td>2011.0</td>\n",
       "      <td>80.0</td>\n",
       "      <td>3.0</td>\n",
       "      <td>8985.0</td>\n",
       "    </tr>\n",
       "    <tr>\n",
       "      <th>2</th>\n",
       "      <td>0.0</td>\n",
       "      <td>0.0</td>\n",
       "      <td>1.0</td>\n",
       "      <td>0.0</td>\n",
       "      <td>0.0</td>\n",
       "      <td>0.0</td>\n",
       "      <td>0.0</td>\n",
       "      <td>0.0</td>\n",
       "      <td>0.0</td>\n",
       "      <td>0.0</td>\n",
       "      <td>...</td>\n",
       "      <td>0.0</td>\n",
       "      <td>0.0</td>\n",
       "      <td>0.0</td>\n",
       "      <td>0.0</td>\n",
       "      <td>0.0</td>\n",
       "      <td>0.0</td>\n",
       "      <td>2016.0</td>\n",
       "      <td>80.0</td>\n",
       "      <td>6.0</td>\n",
       "      <td>8990.0</td>\n",
       "    </tr>\n",
       "    <tr>\n",
       "      <th>3</th>\n",
       "      <td>0.0</td>\n",
       "      <td>0.0</td>\n",
       "      <td>0.0</td>\n",
       "      <td>0.0</td>\n",
       "      <td>0.0</td>\n",
       "      <td>0.0</td>\n",
       "      <td>0.0</td>\n",
       "      <td>0.0</td>\n",
       "      <td>0.0</td>\n",
       "      <td>0.0</td>\n",
       "      <td>...</td>\n",
       "      <td>1.0</td>\n",
       "      <td>0.0</td>\n",
       "      <td>0.0</td>\n",
       "      <td>0.0</td>\n",
       "      <td>0.0</td>\n",
       "      <td>0.0</td>\n",
       "      <td>2014.0</td>\n",
       "      <td>82.0</td>\n",
       "      <td>2.0</td>\n",
       "      <td>9500.0</td>\n",
       "    </tr>\n",
       "    <tr>\n",
       "      <th>4</th>\n",
       "      <td>0.0</td>\n",
       "      <td>0.0</td>\n",
       "      <td>1.0</td>\n",
       "      <td>0.0</td>\n",
       "      <td>0.0</td>\n",
       "      <td>0.0</td>\n",
       "      <td>0.0</td>\n",
       "      <td>0.0</td>\n",
       "      <td>0.0</td>\n",
       "      <td>0.0</td>\n",
       "      <td>...</td>\n",
       "      <td>0.0</td>\n",
       "      <td>0.0</td>\n",
       "      <td>0.0</td>\n",
       "      <td>0.0</td>\n",
       "      <td>0.0</td>\n",
       "      <td>0.0</td>\n",
       "      <td>2013.0</td>\n",
       "      <td>80.0</td>\n",
       "      <td>5.0</td>\n",
       "      <td>13900.0</td>\n",
       "    </tr>\n",
       "    <tr>\n",
       "      <th>...</th>\n",
       "      <td>...</td>\n",
       "      <td>...</td>\n",
       "      <td>...</td>\n",
       "      <td>...</td>\n",
       "      <td>...</td>\n",
       "      <td>...</td>\n",
       "      <td>...</td>\n",
       "      <td>...</td>\n",
       "      <td>...</td>\n",
       "      <td>...</td>\n",
       "      <td>...</td>\n",
       "      <td>...</td>\n",
       "      <td>...</td>\n",
       "      <td>...</td>\n",
       "      <td>...</td>\n",
       "      <td>...</td>\n",
       "      <td>...</td>\n",
       "      <td>...</td>\n",
       "      <td>...</td>\n",
       "      <td>...</td>\n",
       "      <td>...</td>\n",
       "    </tr>\n",
       "    <tr>\n",
       "      <th>3042</th>\n",
       "      <td>0.0</td>\n",
       "      <td>0.0</td>\n",
       "      <td>0.0</td>\n",
       "      <td>0.0</td>\n",
       "      <td>1.0</td>\n",
       "      <td>0.0</td>\n",
       "      <td>0.0</td>\n",
       "      <td>0.0</td>\n",
       "      <td>0.0</td>\n",
       "      <td>0.0</td>\n",
       "      <td>...</td>\n",
       "      <td>0.0</td>\n",
       "      <td>0.0</td>\n",
       "      <td>0.0</td>\n",
       "      <td>0.0</td>\n",
       "      <td>0.0</td>\n",
       "      <td>0.0</td>\n",
       "      <td>2017.0</td>\n",
       "      <td>87.0</td>\n",
       "      <td>2.0</td>\n",
       "      <td>13950.0</td>\n",
       "    </tr>\n",
       "    <tr>\n",
       "      <th>3043</th>\n",
       "      <td>0.0</td>\n",
       "      <td>0.0</td>\n",
       "      <td>1.0</td>\n",
       "      <td>0.0</td>\n",
       "      <td>0.0</td>\n",
       "      <td>0.0</td>\n",
       "      <td>0.0</td>\n",
       "      <td>0.0</td>\n",
       "      <td>0.0</td>\n",
       "      <td>0.0</td>\n",
       "      <td>...</td>\n",
       "      <td>0.0</td>\n",
       "      <td>0.0</td>\n",
       "      <td>0.0</td>\n",
       "      <td>0.0</td>\n",
       "      <td>0.0</td>\n",
       "      <td>0.0</td>\n",
       "      <td>2013.0</td>\n",
       "      <td>80.0</td>\n",
       "      <td>7.0</td>\n",
       "      <td>5800.0</td>\n",
       "    </tr>\n",
       "    <tr>\n",
       "      <th>3044</th>\n",
       "      <td>0.0</td>\n",
       "      <td>1.0</td>\n",
       "      <td>0.0</td>\n",
       "      <td>0.0</td>\n",
       "      <td>0.0</td>\n",
       "      <td>0.0</td>\n",
       "      <td>0.0</td>\n",
       "      <td>0.0</td>\n",
       "      <td>0.0</td>\n",
       "      <td>0.0</td>\n",
       "      <td>...</td>\n",
       "      <td>0.0</td>\n",
       "      <td>0.0</td>\n",
       "      <td>0.0</td>\n",
       "      <td>0.0</td>\n",
       "      <td>0.0</td>\n",
       "      <td>0.0</td>\n",
       "      <td>2015.0</td>\n",
       "      <td>82.0</td>\n",
       "      <td>4.0</td>\n",
       "      <td>14999.0</td>\n",
       "    </tr>\n",
       "    <tr>\n",
       "      <th>3045</th>\n",
       "      <td>0.0</td>\n",
       "      <td>0.0</td>\n",
       "      <td>0.0</td>\n",
       "      <td>0.0</td>\n",
       "      <td>0.0</td>\n",
       "      <td>0.0</td>\n",
       "      <td>0.0</td>\n",
       "      <td>1.0</td>\n",
       "      <td>0.0</td>\n",
       "      <td>0.0</td>\n",
       "      <td>...</td>\n",
       "      <td>0.0</td>\n",
       "      <td>0.0</td>\n",
       "      <td>0.0</td>\n",
       "      <td>0.0</td>\n",
       "      <td>0.0</td>\n",
       "      <td>0.0</td>\n",
       "      <td>2015.0</td>\n",
       "      <td>85.0</td>\n",
       "      <td>2.0</td>\n",
       "      <td>16500.0</td>\n",
       "    </tr>\n",
       "    <tr>\n",
       "      <th>3046</th>\n",
       "      <td>0.0</td>\n",
       "      <td>0.0</td>\n",
       "      <td>0.0</td>\n",
       "      <td>1.0</td>\n",
       "      <td>0.0</td>\n",
       "      <td>0.0</td>\n",
       "      <td>0.0</td>\n",
       "      <td>0.0</td>\n",
       "      <td>0.0</td>\n",
       "      <td>0.0</td>\n",
       "      <td>...</td>\n",
       "      <td>0.0</td>\n",
       "      <td>0.0</td>\n",
       "      <td>0.0</td>\n",
       "      <td>0.0</td>\n",
       "      <td>0.0</td>\n",
       "      <td>0.0</td>\n",
       "      <td>2016.0</td>\n",
       "      <td>87.0</td>\n",
       "      <td>0.0</td>\n",
       "      <td>13450.0</td>\n",
       "    </tr>\n",
       "  </tbody>\n",
       "</table>\n",
       "<p>3047 rows × 221 columns</p>\n",
       "</div>"
      ],
      "text/plain": [
       "      onehotencoder__x0_audi  onehotencoder__x0_bmw  onehotencoder__x0_ford  \\\n",
       "0                        0.0                    0.0                     1.0   \n",
       "1                        0.0                    0.0                     1.0   \n",
       "2                        0.0                    0.0                     1.0   \n",
       "3                        0.0                    0.0                     0.0   \n",
       "4                        0.0                    0.0                     1.0   \n",
       "...                      ...                    ...                     ...   \n",
       "3042                     0.0                    0.0                     0.0   \n",
       "3043                     0.0                    0.0                     1.0   \n",
       "3044                     0.0                    1.0                     0.0   \n",
       "3045                     0.0                    0.0                     0.0   \n",
       "3046                     0.0                    0.0                     0.0   \n",
       "\n",
       "      onehotencoder__x0_honda  onehotencoder__x0_hyundai  \\\n",
       "0                         0.0                        0.0   \n",
       "1                         0.0                        0.0   \n",
       "2                         0.0                        0.0   \n",
       "3                         0.0                        0.0   \n",
       "4                         0.0                        0.0   \n",
       "...                       ...                        ...   \n",
       "3042                      0.0                        1.0   \n",
       "3043                      0.0                        0.0   \n",
       "3044                      0.0                        0.0   \n",
       "3045                      0.0                        0.0   \n",
       "3046                      1.0                        0.0   \n",
       "\n",
       "      onehotencoder__x0_kia  onehotencoder__x0_lexus  onehotencoder__x0_mazda  \\\n",
       "0                       0.0                      0.0                      0.0   \n",
       "1                       0.0                      0.0                      0.0   \n",
       "2                       0.0                      0.0                      0.0   \n",
       "3                       0.0                      0.0                      0.0   \n",
       "4                       0.0                      0.0                      0.0   \n",
       "...                     ...                      ...                      ...   \n",
       "3042                    0.0                      0.0                      0.0   \n",
       "3043                    0.0                      0.0                      0.0   \n",
       "3044                    0.0                      0.0                      0.0   \n",
       "3045                    0.0                      0.0                      1.0   \n",
       "3046                    0.0                      0.0                      0.0   \n",
       "\n",
       "      onehotencoder__x0_mercedes-benz  onehotencoder__x0_mini  ...  \\\n",
       "0                                 0.0                     0.0  ...   \n",
       "1                                 0.0                     0.0  ...   \n",
       "2                                 0.0                     0.0  ...   \n",
       "3                                 0.0                     0.0  ...   \n",
       "4                                 0.0                     0.0  ...   \n",
       "...                               ...                     ...  ...   \n",
       "3042                              0.0                     0.0  ...   \n",
       "3043                              0.0                     0.0  ...   \n",
       "3044                              0.0                     0.0  ...   \n",
       "3045                              0.0                     0.0  ...   \n",
       "3046                              0.0                     0.0  ...   \n",
       "\n",
       "      onehotencoder__x10_va  onehotencoder__x10_vt  onehotencoder__x10_wa  \\\n",
       "0                       0.0                    0.0                    0.0   \n",
       "1                       0.0                    0.0                    0.0   \n",
       "2                       0.0                    0.0                    0.0   \n",
       "3                       1.0                    0.0                    0.0   \n",
       "4                       0.0                    0.0                    0.0   \n",
       "...                     ...                    ...                    ...   \n",
       "3042                    0.0                    0.0                    0.0   \n",
       "3043                    0.0                    0.0                    0.0   \n",
       "3044                    0.0                    0.0                    0.0   \n",
       "3045                    0.0                    0.0                    0.0   \n",
       "3046                    0.0                    0.0                    0.0   \n",
       "\n",
       "      onehotencoder__x10_wi  onehotencoder__x10_wv  onehotencoder__x10_wy  \\\n",
       "0                       0.0                    0.0                    0.0   \n",
       "1                       0.0                    0.0                    0.0   \n",
       "2                       0.0                    0.0                    0.0   \n",
       "3                       0.0                    0.0                    0.0   \n",
       "4                       0.0                    0.0                    0.0   \n",
       "...                     ...                    ...                    ...   \n",
       "3042                    0.0                    0.0                    0.0   \n",
       "3043                    0.0                    0.0                    0.0   \n",
       "3044                    0.0                    0.0                    0.0   \n",
       "3045                    0.0                    0.0                    0.0   \n",
       "3046                    0.0                    0.0                    0.0   \n",
       "\n",
       "        year  reliability  odometer_lab    price  \n",
       "0     2017.0         80.0           0.0  11395.0  \n",
       "1     2011.0         80.0           3.0   8985.0  \n",
       "2     2016.0         80.0           6.0   8990.0  \n",
       "3     2014.0         82.0           2.0   9500.0  \n",
       "4     2013.0         80.0           5.0  13900.0  \n",
       "...      ...          ...           ...      ...  \n",
       "3042  2017.0         87.0           2.0  13950.0  \n",
       "3043  2013.0         80.0           7.0   5800.0  \n",
       "3044  2015.0         82.0           4.0  14999.0  \n",
       "3045  2015.0         85.0           2.0  16500.0  \n",
       "3046  2016.0         87.0           0.0  13450.0  \n",
       "\n",
       "[3047 rows x 221 columns]"
      ]
     },
     "execution_count": 49,
     "metadata": {},
     "output_type": "execute_result"
    }
   ],
   "source": [
    "# a continuacion realizamos un onehot encoder para las coloumnas \n",
    "df_oh_test = pd.concat([X_test, y_test], axis= 1)\n",
    "\n",
    "transformed = transformer.transform(df_oh_test).toarray()\n",
    "\n",
    "transformed_test_df = pd.DataFrame(transformed, columns=transformer.get_feature_names_out())\n",
    "transformed_test_df"
   ]
  },
  {
   "cell_type": "code",
   "execution_count": 50,
   "metadata": {},
   "outputs": [],
   "source": [
    "X_train = transformed_train_df.drop('price',axis=1)\n",
    "y_train = transformed_train_df['price']\n",
    "\n",
    "X_test = transformed_test_df.drop('price',axis=1)\n",
    "y_test = transformed_test_df['price']\n"
   ]
  },
  {
   "cell_type": "code",
   "execution_count": 51,
   "metadata": {},
   "outputs": [],
   "source": [
    "lin_reg = Pipeline(steps=\n",
    "                    [\n",
    "                    ('scaler', StandardScaler()),\n",
    "                    ('regressor', LinearRegression())]) # simple imputer\n",
    "                    \n",
    "scores = cross_val_score(lin_reg, X_train, y_train, scoring='neg_mean_squared_error', cv=10)\n",
    "\n"
   ]
  },
  {
   "cell_type": "code",
   "execution_count": 52,
   "metadata": {},
   "outputs": [
    {
     "data": {
      "text/plain": [
       "2.4811022785868994e+28"
      ]
     },
     "execution_count": 52,
     "metadata": {},
     "output_type": "execute_result"
    }
   ],
   "source": [
    "abs(scores.mean())"
   ]
  },
  {
   "cell_type": "code",
   "execution_count": 53,
   "metadata": {},
   "outputs": [
    {
     "data": {
      "text/plain": [
       "Pipeline(steps=[('scaler', StandardScaler()),\n",
       "                ('regressor', LinearRegression())])"
      ]
     },
     "execution_count": 53,
     "metadata": {},
     "output_type": "execute_result"
    }
   ],
   "source": [
    "lin_reg.fit(X_train, y_train)"
   ]
  },
  {
   "cell_type": "code",
   "execution_count": 54,
   "metadata": {},
   "outputs": [
    {
     "name": "stdout",
     "output_type": "stream",
     "text": [
      "The model performance for training set\n",
      "--------------------------------------\n",
      "RMSE is 2220.4109525927133\n",
      "R2 score is 0.7034536498982193\n",
      "\n",
      "\n"
     ]
    }
   ],
   "source": [
    "rmse = np.sqrt(mean_squared_error(y_train, lin_reg.predict(X_train)))\n",
    "r2 = r2_score(y_train, lin_reg.predict(X_train))\n",
    "\n",
    "print(\"The model performance for training set\")\n",
    "print(\"--------------------------------------\")\n",
    "print(\"RMSE is {}\".format(rmse))\n",
    "print(\"R2 score is {}\".format(r2))\n",
    "print(\"\\n\")"
   ]
  },
  {
   "cell_type": "code",
   "execution_count": 55,
   "metadata": {},
   "outputs": [
    {
     "name": "stdout",
     "output_type": "stream",
     "text": [
      "The model performance for test set\n",
      "--------------------------------------\n",
      "RMSE is 2355.7149082470683\n",
      "R2 score is 0.6565899188152515\n",
      "\n",
      "\n"
     ]
    }
   ],
   "source": [
    "rmse_test = np.sqrt(mean_squared_error(y_test, lin_reg.predict(X_test)))\n",
    "r2_test = r2_score(y_test, lin_reg.predict(X_test))\n",
    "\n",
    "print(\"The model performance for test set\")\n",
    "print(\"--------------------------------------\")\n",
    "print(\"RMSE is {}\".format(rmse_test))\n",
    "print(\"R2 score is {}\".format(r2_test))\n",
    "print(\"\\n\")"
   ]
  },
  {
   "cell_type": "code",
   "execution_count": 57,
   "metadata": {},
   "outputs": [
    {
     "data": {
      "text/plain": [
       "LinearRegression()"
      ]
     },
     "execution_count": 57,
     "metadata": {},
     "output_type": "execute_result"
    }
   ],
   "source": [
    "poly_reg = Pipeline( steps= [\n",
    "                            ('scaler', StandardScaler()),\n",
    "                            ('regressor', PolynomialFeatures(degree=2))])\n",
    "\n",
    "poly_reg.fit(X_train)\n",
    "\n",
    "X_poly = poly_reg.transform(X_train)\n",
    "\n",
    "pol_reg = LinearRegression()\n",
    "pol_reg.fit(X_poly,y_train)"
   ]
  },
  {
   "cell_type": "code",
   "execution_count": 59,
   "metadata": {},
   "outputs": [
    {
     "data": {
      "text/plain": [
       "array([ 1.26344623e+04,  8.13547839e+03,  7.69722827e+03, ...,\n",
       "        1.57510578e+04, -7.19428385e+10,  1.28235028e+04])"
      ]
     },
     "execution_count": 59,
     "metadata": {},
     "output_type": "execute_result"
    }
   ],
   "source": [
    "y_pred = pol_reg.predict(poly_reg.transform(X_test))\n",
    "y_pred"
   ]
  },
  {
   "cell_type": "code",
   "execution_count": 63,
   "metadata": {},
   "outputs": [
    {
     "name": "stdout",
     "output_type": "stream",
     "text": [
      "The model performance for training set\n",
      "--------------------------------------\n",
      "RMSE is 5621657997934.274\n",
      "R2 score is -1.955673818222572e+18\n",
      "\n",
      "\n"
     ]
    }
   ],
   "source": [
    "rmse_test2 = np.sqrt(mean_squared_error(y_test, y_pred))\n",
    "r2_test2 = r2_score(y_test, y_pred)\n",
    "\n",
    "print(\"The model performance for training set\")\n",
    "print(\"--------------------------------------\")\n",
    "print(\"RMSE is {}\".format(rmse_test2))\n",
    "print(\"R2 score is {}\".format(r2_test2))\n",
    "print(\"\\n\")"
   ]
  },
  {
   "cell_type": "code",
   "execution_count": 64,
   "metadata": {},
   "outputs": [
    {
     "name": "stdout",
     "output_type": "stream",
     "text": [
      "The model performance for training set\n",
      "--------------------------------------\n",
      "RMSE is 1248.5571957504603\n",
      "R2 score is 0.9062345709540077\n",
      "\n",
      "\n"
     ]
    }
   ],
   "source": [
    "rmse_train = np.sqrt(mean_squared_error(y_train, pol_reg.predict(poly_reg.transform(X_train))))\n",
    "r2_train = r2_score(y_train, pol_reg.predict(poly_reg.transform(X_train)))\n",
    "\n",
    "print(\"The model performance for training set\")\n",
    "print(\"--------------------------------------\")\n",
    "print(\"RMSE is {}\".format(rmse_train))\n",
    "print(\"R2 score is {}\".format(r2_train))\n",
    "print(\"\\n\")"
   ]
  },
  {
   "cell_type": "code",
   "execution_count": 65,
   "metadata": {},
   "outputs": [
    {
     "data": {
      "text/plain": [
       "GridSearchCV(cv=10, error_score='raise',\n",
       "             estimator=Pipeline(steps=[('scaler', StandardScaler()),\n",
       "                                       ('ridgereg', Ridge())]),\n",
       "             n_jobs=-1,\n",
       "             param_grid={'ridgereg__alpha': array([100, 101, 102, 103, 104, 105, 106, 107, 108, 109, 110, 111, 112,\n",
       "       113, 114, 115, 116, 117, 118, 119])},\n",
       "             scoring='neg_mean_squared_error')"
      ]
     },
     "execution_count": 65,
     "metadata": {},
     "output_type": "execute_result"
    }
   ],
   "source": [
    "ridge_reg = Pipeline(steps=\n",
    "                    [\n",
    "                    ('scaler', StandardScaler()),\n",
    "                    ('ridgereg', Ridge())])\n",
    "\n",
    "ridge_params = {'ridgereg__alpha': np.arange(100,120,1)}\n",
    "\n",
    "grid_ridge = GridSearchCV(estimator= ridge_reg, param_grid= ridge_params, n_jobs=-1, scoring='neg_mean_squared_error',cv=10, error_score='raise')\n",
    "\n",
    "grid_ridge.fit(X_train,y_train)"
   ]
  },
  {
   "cell_type": "code",
   "execution_count": 66,
   "metadata": {},
   "outputs": [
    {
     "data": {
      "text/plain": [
       "{'ridgereg__alpha': 105}"
      ]
     },
     "execution_count": 66,
     "metadata": {},
     "output_type": "execute_result"
    }
   ],
   "source": [
    "grid_ridge.best_params_"
   ]
  },
  {
   "cell_type": "code",
   "execution_count": 67,
   "metadata": {},
   "outputs": [
    {
     "data": {
      "text/plain": [
       "-5204136.308817354"
      ]
     },
     "execution_count": 67,
     "metadata": {},
     "output_type": "execute_result"
    }
   ],
   "source": [
    "grid_ridge.best_score_\n"
   ]
  },
  {
   "cell_type": "code",
   "execution_count": 72,
   "metadata": {},
   "outputs": [
    {
     "name": "stdout",
     "output_type": "stream",
     "text": [
      "Test RMSE: 2351.17 $\n"
     ]
    }
   ],
   "source": [
    "y_pred_gs_rid = grid_ridge.predict(X_test)\n",
    "\n",
    "test_error_rid = np.sqrt(mean_squared_error(y_test, y_pred_gs_rid))\n",
    "print(\"Test RMSE:\", round(test_error_rid,2),'$')"
   ]
  },
  {
   "cell_type": "code",
   "execution_count": 89,
   "metadata": {},
   "outputs": [],
   "source": [
    "pipe_rf = Pipeline(steps=[\n",
    "                    ('scaler', StandardScaler()),\n",
    "    (\"regressor\", RandomForestRegressor())])\n",
    "\n",
    "\n",
    "random_forest_params = {\n",
    "    'regressor__n_estimators': [200],\n",
    "    'regressor__max_features': [50]\n",
    "}\n",
    "\n",
    "grid_rf = GridSearchCV(pipe_rf,\n",
    "                   random_forest_params,\n",
    "                   cv = 5,\n",
    "                   n_jobs=-1,\n",
    "                   scoring='neg_mean_squared_error')\n",
    "\n",
    "pipe_en = Pipeline(steps=[\n",
    "                    ('scaler', StandardScaler()),\n",
    "    ('regressor', ElasticNet())])\n",
    "\n",
    "elastic_params = {\n",
    "    'regressor__l1_ratio': [1],\n",
    "    'regressor__alpha': np.arange(3.1, 10, 1)\n",
    "}\n",
    "\n",
    "grid_en = GridSearchCV(pipe_en,\n",
    "                   elastic_params,\n",
    "                   cv = 5,\n",
    "                   n_jobs=-1,\n",
    "                   scoring='neg_mean_squared_error')\n",
    "\n",
    "\n",
    "\n",
    "\n",
    "\n",
    "\n",
    "grids = {\n",
    "    \"grid_rf\": grid_rf,\n",
    "    \"grid_en\": grid_en,\n",
    "   \n",
    "}\n",
    "\n",
    "\n",
    "\n"
   ]
  },
  {
   "cell_type": "code",
   "execution_count": 90,
   "metadata": {},
   "outputs": [],
   "source": [
    "for nombre, grid_search in grids.items():\n",
    "    grid_search.fit(X_train, y_train)"
   ]
  },
  {
   "cell_type": "code",
   "execution_count": 91,
   "metadata": {},
   "outputs": [
    {
     "data": {
      "text/html": [
       "<div>\n",
       "<style scoped>\n",
       "    .dataframe tbody tr th:only-of-type {\n",
       "        vertical-align: middle;\n",
       "    }\n",
       "\n",
       "    .dataframe tbody tr th {\n",
       "        vertical-align: top;\n",
       "    }\n",
       "\n",
       "    .dataframe thead th {\n",
       "        text-align: right;\n",
       "    }\n",
       "</style>\n",
       "<table border=\"1\" class=\"dataframe\">\n",
       "  <thead>\n",
       "    <tr style=\"text-align: right;\">\n",
       "      <th></th>\n",
       "      <th>Grid</th>\n",
       "      <th>best_loss</th>\n",
       "    </tr>\n",
       "  </thead>\n",
       "  <tbody>\n",
       "    <tr>\n",
       "      <th>0</th>\n",
       "      <td>grid_rf</td>\n",
       "      <td>4.884782e+06</td>\n",
       "    </tr>\n",
       "    <tr>\n",
       "      <th>1</th>\n",
       "      <td>grid_en</td>\n",
       "      <td>5.213685e+06</td>\n",
       "    </tr>\n",
       "  </tbody>\n",
       "</table>\n",
       "</div>"
      ],
      "text/plain": [
       "      Grid     best_loss\n",
       "0  grid_rf  4.884782e+06\n",
       "1  grid_en  5.213685e+06"
      ]
     },
     "execution_count": 91,
     "metadata": {},
     "output_type": "execute_result"
    }
   ],
   "source": [
    "best_grids = [(i,abs( j.best_score_)) for i, j in grids.items()]\n",
    "\n",
    "best_grids = pd.DataFrame(best_grids, columns = [\"Grid\", \"best_loss\"])\n",
    "best_grids.sort_values(by = \"best_loss\", ascending = True)"
   ]
  },
  {
   "cell_type": "code",
   "execution_count": 92,
   "metadata": {},
   "outputs": [
    {
     "name": "stdout",
     "output_type": "stream",
     "text": [
      "Best estimator: Pipeline(steps=[('scaler', StandardScaler()),\n",
      "                ('regressor',\n",
      "                 RandomForestRegressor(max_features=50, n_estimators=200))])\n",
      "Best params: {'regressor__max_features': 50, 'regressor__n_estimators': 200}\n",
      "Best score: -4884782.325166544\n"
     ]
    }
   ],
   "source": [
    "print(\"Best estimator:\", grid_rf.best_estimator_)\n",
    "print(\"Best params:\", grid_rf.best_params_)\n",
    "print(\"Best score:\", grid_rf.best_score_)"
   ]
  },
  {
   "cell_type": "code",
   "execution_count": 93,
   "metadata": {},
   "outputs": [
    {
     "name": "stdout",
     "output_type": "stream",
     "text": [
      "Test RMSE: 2220.34 $\n"
     ]
    }
   ],
   "source": [
    "y_pred_gs_rf = grid_rf.predict(X_test)\n",
    "test_error_rf = np.sqrt(mean_squared_error(y_test, y_pred_gs_rf))\n",
    "print(\"Test RMSE:\", round(test_error_rf,2),'$')"
   ]
  },
  {
   "cell_type": "code",
   "execution_count": 94,
   "metadata": {},
   "outputs": [],
   "source": [
    "X_train, X_val, y_train, y_val = train_test_split(X_train, y_train, test_size=0.33, random_state=42)"
   ]
  },
  {
   "cell_type": "code",
   "execution_count": 95,
   "metadata": {},
   "outputs": [
    {
     "name": "stdout",
     "output_type": "stream",
     "text": [
      "[0]\tvalidation_0-rmse:7757.00150\n",
      "[1]\tvalidation_0-rmse:5752.72082\n",
      "[2]\tvalidation_0-rmse:4426.17114\n",
      "[3]\tvalidation_0-rmse:3591.74320\n",
      "[4]\tvalidation_0-rmse:3089.53925\n",
      "[5]\tvalidation_0-rmse:2801.37677\n",
      "[6]\tvalidation_0-rmse:2629.27742\n",
      "[7]\tvalidation_0-rmse:2528.09617\n",
      "[8]\tvalidation_0-rmse:2480.14736\n",
      "[9]\tvalidation_0-rmse:2438.47376\n",
      "[10]\tvalidation_0-rmse:2401.47930\n",
      "[11]\tvalidation_0-rmse:2381.33581\n",
      "[12]\tvalidation_0-rmse:2368.48314\n",
      "[13]\tvalidation_0-rmse:2354.51924\n",
      "[14]\tvalidation_0-rmse:2349.08611\n",
      "[15]\tvalidation_0-rmse:2337.86126\n",
      "[16]\tvalidation_0-rmse:2328.65399\n",
      "[17]\tvalidation_0-rmse:2322.73307\n",
      "[18]\tvalidation_0-rmse:2317.81370\n",
      "[19]\tvalidation_0-rmse:2316.60887\n",
      "[20]\tvalidation_0-rmse:2305.64043\n",
      "[21]\tvalidation_0-rmse:2300.97523\n",
      "[22]\tvalidation_0-rmse:2301.88851\n",
      "[23]\tvalidation_0-rmse:2297.71600\n",
      "[24]\tvalidation_0-rmse:2294.81889\n",
      "[25]\tvalidation_0-rmse:2291.84466\n",
      "[26]\tvalidation_0-rmse:2289.04679\n",
      "[27]\tvalidation_0-rmse:2282.61240\n",
      "[28]\tvalidation_0-rmse:2281.72824\n",
      "[29]\tvalidation_0-rmse:2281.24672\n",
      "[30]\tvalidation_0-rmse:2278.08589\n",
      "[31]\tvalidation_0-rmse:2274.66955\n",
      "[32]\tvalidation_0-rmse:2274.71958\n",
      "[33]\tvalidation_0-rmse:2272.08130\n",
      "[34]\tvalidation_0-rmse:2270.28723\n",
      "[35]\tvalidation_0-rmse:2269.59464\n",
      "[36]\tvalidation_0-rmse:2267.24655\n",
      "[37]\tvalidation_0-rmse:2267.24545\n",
      "[38]\tvalidation_0-rmse:2265.17198\n",
      "[39]\tvalidation_0-rmse:2264.42887\n",
      "[40]\tvalidation_0-rmse:2264.61734\n",
      "[41]\tvalidation_0-rmse:2261.55424\n",
      "[42]\tvalidation_0-rmse:2255.57101\n",
      "[43]\tvalidation_0-rmse:2258.57379\n",
      "[44]\tvalidation_0-rmse:2258.23920\n",
      "Validation MSE: 5087600.566135437\n"
     ]
    }
   ],
   "source": [
    "xgb_reg = xgboost.XGBRegressor(random_state=42, early_stopping_rounds = 2)\n",
    "xgb_reg.fit(X_train, y_train, eval_set = [(X_val, y_val)])\n",
    "y_pred = xgb_reg.predict(X_val)\n",
    "val_error = mean_squared_error(y_val, y_pred)\n",
    "print(\"Validation MSE:\", val_error)"
   ]
  },
  {
   "cell_type": "code",
   "execution_count": 96,
   "metadata": {},
   "outputs": [
    {
     "name": "stdout",
     "output_type": "stream",
     "text": [
      "Test MSE: 5122060.920629907\n"
     ]
    }
   ],
   "source": [
    "# no tieene sentido comrpobar todo con test ya que para eso se hace la validacion\n",
    "# test solo debe probarse con el mejor modelo \n",
    "y_pred = xgb_reg.predict(X_test)\n",
    "test_error = mean_squared_error(y_test, y_pred)\n",
    "print(\"Test MSE:\", test_error)"
   ]
  },
  {
   "cell_type": "code",
   "execution_count": 103,
   "metadata": {},
   "outputs": [
    {
     "data": {
      "text/html": [
       "<div>\n",
       "<style scoped>\n",
       "    .dataframe tbody tr th:only-of-type {\n",
       "        vertical-align: middle;\n",
       "    }\n",
       "\n",
       "    .dataframe tbody tr th {\n",
       "        vertical-align: top;\n",
       "    }\n",
       "\n",
       "    .dataframe thead th {\n",
       "        text-align: right;\n",
       "    }\n",
       "</style>\n",
       "<table border=\"1\" class=\"dataframe\">\n",
       "  <thead>\n",
       "    <tr style=\"text-align: right;\">\n",
       "      <th></th>\n",
       "      <th>Grid</th>\n",
       "      <th>best_loss</th>\n",
       "    </tr>\n",
       "  </thead>\n",
       "  <tbody>\n",
       "    <tr>\n",
       "      <th>3</th>\n",
       "      <td>grid_xgb</td>\n",
       "      <td>4.671928e+06</td>\n",
       "    </tr>\n",
       "    <tr>\n",
       "      <th>0</th>\n",
       "      <td>grid_rf</td>\n",
       "      <td>4.692040e+06</td>\n",
       "    </tr>\n",
       "    <tr>\n",
       "      <th>1</th>\n",
       "      <td>grid_en</td>\n",
       "      <td>8.056868e+06</td>\n",
       "    </tr>\n",
       "    <tr>\n",
       "      <th>2</th>\n",
       "      <td>grid_svr</td>\n",
       "      <td>8.433718e+06</td>\n",
       "    </tr>\n",
       "  </tbody>\n",
       "</table>\n",
       "</div>"
      ],
      "text/plain": [
       "       Grid     best_loss\n",
       "3  grid_xgb  4.671928e+06\n",
       "0   grid_rf  4.692040e+06\n",
       "1   grid_en  8.056868e+06\n",
       "2  grid_svr  8.433718e+06"
      ]
     },
     "execution_count": 103,
     "metadata": {},
     "output_type": "execute_result"
    }
   ],
   "source": [
    "best_grids\n",
    "best_grids.sort_values(by = \"best_loss\", ascending = True)"
   ]
  }
 ],
 "metadata": {
  "kernelspec": {
   "display_name": "Python 3.7.4 64-bit",
   "language": "python",
   "name": "python3"
  },
  "language_info": {
   "codemirror_mode": {
    "name": "ipython",
    "version": 3
   },
   "file_extension": ".py",
   "mimetype": "text/x-python",
   "name": "python",
   "nbconvert_exporter": "python",
   "pygments_lexer": "ipython3",
   "version": "3.7.4"
  },
  "orig_nbformat": 4,
  "vscode": {
   "interpreter": {
    "hash": "ddd14c5522b8c89e74d6fdb2089acb05daac4aee5b6b35e5bfccff2f461e99a6"
   }
  }
 },
 "nbformat": 4,
 "nbformat_minor": 2
}
